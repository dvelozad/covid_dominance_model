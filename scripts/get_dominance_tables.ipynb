{
 "cells": [
  {
   "cell_type": "code",
   "execution_count": 1,
   "id": "38999fe2-8ca0-4c51-9a86-8f0223ca1d69",
   "metadata": {},
   "outputs": [],
   "source": [
    "from get_plot_functions import *\n",
    "import os\n",
    "from fuzzywuzzy import process\n",
    "import pandas as pd"
   ]
  },
  {
   "cell_type": "code",
   "execution_count": 2,
   "id": "1b1815cb",
   "metadata": {},
   "outputs": [],
   "source": [
    "# Function to normalize text\n",
    "def normalize_text(text):\n",
    "    return str(text).lower().strip()"
   ]
  },
  {
   "cell_type": "markdown",
   "id": "a1c50831-b132-4c23-a90d-6e9eb278036d",
   "metadata": {},
   "source": [
    "# Variables"
   ]
  },
  {
   "cell_type": "code",
   "execution_count": 20,
   "id": "f7202060-deb4-4500-92c6-02278d90daff",
   "metadata": {},
   "outputs": [],
   "source": [
    "input_folder = '../data/gisaid_data_26_12_2023'\n",
    "output_folder = '../output_files/processed_data'"
   ]
  },
  {
   "cell_type": "markdown",
   "id": "1edf030d-cb00-42ef-be8b-9aac9f6bae40",
   "metadata": {},
   "source": [
    "# Load data"
   ]
  },
  {
   "cell_type": "code",
   "execution_count": 5,
   "id": "2dcf7835",
   "metadata": {},
   "outputs": [],
   "source": [
    "############################################\n",
    "## gisaid data\n",
    "############################################\n",
    "df_gisaid = pd.DataFrame({})\n",
    "for file in os.listdir(input_folder):\n",
    "    df_ = pd.read_csv(f'{input_folder}/{file}', sep='\\t')\n",
    "    df_gisaid = pd.concat([df_gisaid, df_])\n",
    "\n",
    "df_gisaid['count_'] = 1\n",
    "df_gisaid['division_exposure'] = df_gisaid.division_exposure.replace({'Distrito Capital de Bogota' : 'Bogota',\n",
    "                                      'Distrito Capital' : 'Bogota',\n",
    "                                      'San Andres islas' : 'San andres'})\n",
    "df_gisaid.loc[df_gisaid.location.isna(), 'location'] = df_gisaid.loc[df_gisaid.location.isna(), 'division']\n",
    "\n",
    "df_gisaid['location']  = df_gisaid['location'] .apply(normalize_text)\n",
    "df_gisaid['location'] = df_gisaid.location.replace({'distrito capital' : 'bogota'})"
   ]
  },
  {
   "cell_type": "code",
   "execution_count": 6,
   "metadata": {},
   "outputs": [
    {
     "data": {
      "text/plain": [
       "array(['2020', '2021-04', '2021-07', '2021-06', '2021-08', '2021-05',\n",
       "       '2021-09', '2021', '2022', '2022-01', '2021-12', '2022-02',\n",
       "       '2022-06', '2021-11', '2022-05', '2022-03', '2020-09', '2020-03',\n",
       "       '2020-05', '2020-11', '2020-12', '2020-06', '2020-04', '2023-02'],\n",
       "      dtype=object)"
      ]
     },
     "execution_count": 6,
     "metadata": {},
     "output_type": "execute_result"
    }
   ],
   "source": [
    "df_gisaid[pd.to_datetime(df_gisaid.date, errors='coerce').isna()].date.unique()"
   ]
  },
  {
   "cell_type": "code",
   "execution_count": 7,
   "metadata": {},
   "outputs": [],
   "source": [
    "df_gisaid = df_gisaid[~pd.to_datetime(df_gisaid.date, errors='coerce').isna()].copy()\n",
    "#df_gisaid = df_gisaid[df_gisaid.date >= '2021-01-01']"
   ]
  },
  {
   "cell_type": "code",
   "execution_count": 8,
   "id": "76ed6d5e",
   "metadata": {},
   "outputs": [],
   "source": [
    "###########################################\n",
    "## GEo info Colombia\n",
    "###########################################\n",
    "df_p = pd.read_csv('/zine/HPC02S1/ex-dveloza/AGORA/apps/synthetic_populations/data/processed_data/geodata/geoinfo_municipios_colombia.csv')\n",
    "df_p['NOM_DEPART'] = df_p.NOM_DEPART.replace({'SATA FE DE BOGOTÁ D.C.' : 'BOGOTÁ',\n",
    "                        'ARCHIPIÉLAGO DE SAN ANDRÉS, PROVIDENCIA Y SANTA CATALINA' : 'San Andres y Providencia'})"
   ]
  },
  {
   "cell_type": "code",
   "execution_count": 9,
   "id": "e28ce4fd",
   "metadata": {},
   "outputs": [],
   "source": [
    "places_df = df_gisaid[['division', 'location']].drop_duplicates()\n",
    "places_df.columns = ['Departamento', 'Place']\n",
    "\n",
    "# Normalize the text in these columns\n",
    "places_df['Departamento'] = places_df['Departamento'].apply(normalize_text)\n",
    "places_df['Place'] = places_df['Place'].apply(normalize_text)\n",
    "\n",
    "# Normalize the department and municipality names in df_p\n",
    "df_p['NOM_MUNICI'] = df_p['NOM_MUNICI'].apply(normalize_text)\n",
    "df_p['NOM_DEPART'] = df_p['NOM_DEPART'].apply(normalize_text)\n",
    "\n",
    "def classify_place(row):\n",
    "    depart, place = row['Departamento'], row['Place']\n",
    "    if pd.isna(place):\n",
    "        return 'Unknown', None, None\n",
    "\n",
    "    # Attempt to match the department\n",
    "    best_match_depart, score_depart = process.extractOne(depart, df_p['NOM_DEPART'].unique())\n",
    "    \n",
    "    # If a matching department is found, look for the best matching municipality within that department\n",
    "    if score_depart > 80:\n",
    "        df_filtered = df_p[df_p['NOM_DEPART'] == best_match_depart]\n",
    "        best_match_munic, score_munic = process.extractOne(place, df_filtered['NOM_MUNICI'].unique())\n",
    "        \n",
    "        # Return results with best matching department and municipality\n",
    "        return 'Municipio', best_match_munic, best_match_depart\n",
    "    else:\n",
    "        # Attempt to match the place to all municipalities and get the best match\n",
    "        best_match_munic, score_munic = process.extractOne(place, df_p['NOM_MUNICI'].unique())\n",
    "        \n",
    "        # If the score for the best matching municipality is strong enough, find its corresponding department\n",
    "        if score_munic > 80:\n",
    "            # Find the department for the best matching municipality\n",
    "            best_dept_for_munic = df_p[df_p['NOM_MUNICI'] == best_match_munic]['NOM_DEPART'].iloc[0]\n",
    "            return 'Municipio', best_match_munic, best_dept_for_munic\n",
    "        else:\n",
    "            return 'Unknown', None, None"
   ]
  },
  {
   "cell_type": "code",
   "execution_count": 10,
   "id": "bf2d0721",
   "metadata": {},
   "outputs": [],
   "source": [
    "# # Apply the function to each row\n",
    "places_df[['Classification', 'Best Match Munic', 'Best Match Depart']] = places_df.apply(classify_place, axis=1, result_type='expand')"
   ]
  },
  {
   "cell_type": "code",
   "execution_count": 11,
   "id": "d3964c8c",
   "metadata": {},
   "outputs": [],
   "source": [
    "df_matching = places_df[places_df.Classification != 'Unknown']"
   ]
  },
  {
   "cell_type": "code",
   "execution_count": 12,
   "id": "555cbad3",
   "metadata": {},
   "outputs": [],
   "source": [
    "df_conflicting = places_df[places_df.Classification == 'Unknown'][['Departamento','Place']]\n",
    "df_conflicting.columns = ['Place', 'Departamento']\n",
    "df_conflicting[['Classification', 'Best Match Munic', 'Best Match Depart']] = df_conflicting.apply(classify_place, axis=1, result_type='expand')\n",
    "df_conflicting = df_conflicting.rename(columns={'Place':'Departamento','Departamento':'Place'})"
   ]
  },
  {
   "cell_type": "code",
   "execution_count": 13,
   "id": "a42df3f0",
   "metadata": {},
   "outputs": [
    {
     "data": {
      "text/html": [
       "<div>\n",
       "<style scoped>\n",
       "    .dataframe tbody tr th:only-of-type {\n",
       "        vertical-align: middle;\n",
       "    }\n",
       "\n",
       "    .dataframe tbody tr th {\n",
       "        vertical-align: top;\n",
       "    }\n",
       "\n",
       "    .dataframe thead th {\n",
       "        text-align: right;\n",
       "    }\n",
       "</style>\n",
       "<table border=\"1\" class=\"dataframe\">\n",
       "  <thead>\n",
       "    <tr style=\"text-align: right;\">\n",
       "      <th></th>\n",
       "      <th>Departamento</th>\n",
       "      <th>Place</th>\n",
       "      <th>Classification</th>\n",
       "      <th>Best Match Munic</th>\n",
       "      <th>Best Match Depart</th>\n",
       "    </tr>\n",
       "  </thead>\n",
       "  <tbody>\n",
       "  </tbody>\n",
       "</table>\n",
       "</div>"
      ],
      "text/plain": [
       "Empty DataFrame\n",
       "Columns: [Departamento, Place, Classification, Best Match Munic, Best Match Depart]\n",
       "Index: []"
      ]
     },
     "execution_count": 13,
     "metadata": {},
     "output_type": "execute_result"
    }
   ],
   "source": [
    "df_conflicting[df_conflicting.Classification == 'Unknown']"
   ]
  },
  {
   "cell_type": "code",
   "execution_count": 14,
   "id": "c33b5737",
   "metadata": {},
   "outputs": [],
   "source": [
    "df_complete_match = pd.concat([df_matching, df_conflicting])\n",
    "\n",
    "df = df_complete_match.merge(df_p, left_on=['Best Match Depart','Best Match Munic'], right_on=['NOM_DEPART','NOM_MUNICI'], how='left').drop_duplicates().rename(columns={'Departamento':'division', 'Place':'location'})#[['Place','COD_MUN','NOM_MUNICI','COD_DEPTO','NOM_DEPART']]\n",
    "del df['Classification']\n",
    "del df['Best Match Munic']\n",
    "del df['Best Match Depart']\n",
    "# conflicting_rows = df.groupby(by=['NOM_MUNICI','NOM_DEPART']).filter(lambda x: len(x) > 1)"
   ]
  },
  {
   "cell_type": "code",
   "execution_count": 15,
   "id": "aeed661b",
   "metadata": {},
   "outputs": [],
   "source": [
    "df_gisaid['division'] = df_gisaid.division.apply(normalize_text)\n",
    "df_gisaid['location'] = df_gisaid.location.apply(normalize_text)\n",
    "\n",
    "df_clean = df_gisaid.merge(df, on=['division', 'location'], how='left')\n",
    "df_clean['date'] = pd.to_datetime(df_clean['date'], format='mixed')"
   ]
  },
  {
   "cell_type": "markdown",
   "id": "41588ac8-10c3-4930-b52b-c639729181b5",
   "metadata": {},
   "source": [
    "# Variant prevalence"
   ]
  },
  {
   "cell_type": "code",
   "execution_count": 16,
   "id": "405b8352",
   "metadata": {},
   "outputs": [],
   "source": [
    "time_period = '7D'\n",
    "periods = 80\n",
    "bar_width = 5\n",
    "fontsize = 11\n",
    "fontsize_dates = 10"
   ]
  },
  {
   "cell_type": "code",
   "execution_count": 17,
   "id": "9b8d831e-e93c-4990-b8e6-1f341dc6df26",
   "metadata": {},
   "outputs": [],
   "source": [
    "keywords_alpha =   [\"B.1.1.7\", \"^Q.\"]\n",
    "keywords_gamma =   [\"P.1\", \"^P.1.\"]\n",
    "keywords_mu =      [\"^B.1.621\", \"^B.1.621.1\", \"^B.1.621.2\", \"^BB.1\", \"^BB.2\"]\n",
    "keywords_delta =   [\"B.1.617.2\", \"^AY.\"]\n",
    "# keywords_omicron = [\"B.1.1.529\", \"BA.1\", \"^BA.1.\", \"^BA.1.1\", \"^BA.1.1\", \"BA.2\",\"^BA.2.\", \"BA.3\", \"BA.4\", \"BA.5\", \"BA.2.12.1\", \"BQ.1\", \"^BQ.1.\", \"^XBB\"]\n",
    "keywords_omicron =    [\"B.1.1.529\", \"BA.2\",\"^BA.2.\", \"BA.3\", \"BA.4\", \"BA.5\", \"BA.2.12.1\", \"BQ.1\", \"^BQ.1.\", \"^XBB\"] #\"BA.1\", \"^BA.1.\", \"^BA.1.1\", \"^BA.1.1\", \n",
    "#keywords_omicronBAX = [\"BQ.1\", \"^BQ.1.\", \"^XBB\"]"
   ]
  },
  {
   "cell_type": "code",
   "execution_count": 18,
   "id": "57ac2c10-980c-4fda-a26b-3a794619de76",
   "metadata": {},
   "outputs": [],
   "source": [
    "dicc_variants = {'Alpha':   keywords_alpha,\n",
    "                 'Gamma':   keywords_gamma, \n",
    "                 'Mu':      keywords_mu, \n",
    "                 'Delta':   keywords_delta, \n",
    "                 'Omicron': keywords_omicron}\n",
    "#                 'OmicronBAX': keywords_omicronBAX}"
   ]
  },
  {
   "cell_type": "code",
   "execution_count": 21,
   "id": "2a3b54d0",
   "metadata": {},
   "outputs": [],
   "source": [
    "for cod_dept in df_clean.COD_DEPTO.unique():\n",
    "#for cod_dept in [11]:\n",
    "    df_ = df_clean[df_clean.COD_DEPTO == cod_dept].set_index('date')\n",
    "    df_['count_'] = 1\n",
    "\n",
    "\n",
    "    df_formated_info    = get_formated_count_dataframes(df_, dicc_variants, time_period, omit_other=False)\n",
    "    \n",
    "    mask = (df_formated_info.index > '2021-07-01')\n",
    "    df_formated_info.loc[mask, 'Otros'] = 0\n",
    "\n",
    "    mask = (df_formated_info.index < '2021-01-01')\n",
    "    df_formated_info.loc[mask, 'Mu'] = 0\n",
    "\n",
    "    #df_formated_info    = df_formated_info[df_formated_info.columns[:-1]]\n",
    "    row_sums            = df_formated_info.sum(axis=1)\n",
    "    df_normalized       = df_formated_info.div(row_sums, axis=0)\n",
    "    df_normalized.fillna(0, inplace=True)\n",
    "\n",
    "    df_normalized['week'] = pd.to_datetime(df_normalized.index).isocalendar().week\n",
    "\n",
    "    nom_departamento = df_.NOM_DEPART.unique()[0].upper()\n",
    "    df_normalized[df_normalized[df_normalized.columns[:-1]].sum(axis=1) > 0].to_csv(f'{output_folder}/{cod_dept}_dominance_data.csv')"
   ]
  }
 ],
 "metadata": {
  "kernelspec": {
   "display_name": "Python 3 (ipykernel)",
   "language": "python",
   "name": "python3"
  },
  "language_info": {
   "codemirror_mode": {
    "name": "ipython",
    "version": 3
   },
   "file_extension": ".py",
   "mimetype": "text/x-python",
   "name": "python",
   "nbconvert_exporter": "python",
   "pygments_lexer": "ipython3",
   "version": "3.10.12"
  }
 },
 "nbformat": 4,
 "nbformat_minor": 5
}
