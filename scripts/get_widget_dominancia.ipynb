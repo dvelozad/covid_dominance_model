{
 "cells": [
  {
   "cell_type": "code",
   "execution_count": 1,
   "metadata": {},
   "outputs": [],
   "source": [
    "import os\n",
    "import re\n",
    "import pandas as pd\n",
    "from bokeh.plotting import figure, ColumnDataSource\n",
    "from bokeh.models import Select, CustomJS\n",
    "from bokeh.layouts import column\n",
    "from bokeh.io import output_file, show\n",
    "from bokeh.palettes import Category10"
   ]
  },
  {
   "cell_type": "code",
   "execution_count": 2,
   "metadata": {},
   "outputs": [],
   "source": [
    "input_folder    = '../output_files'\n",
    "output_folder   = '../output_files/widget'"
   ]
  },
  {
   "cell_type": "code",
   "execution_count": 3,
   "metadata": {},
   "outputs": [],
   "source": [
    "data_folder             = '../data'\n",
    "geo_colombia_info_file  = 'geoinfo_municipios_colombia.csv'"
   ]
  },
  {
   "cell_type": "code",
   "execution_count": 4,
   "metadata": {},
   "outputs": [],
   "source": [
    "df_mun_info = pd.read_csv(f'{data_folder}/{geo_colombia_info_file}')[['COD_DEPTO','NOM_DEPART']].drop_duplicates()"
   ]
  },
  {
   "cell_type": "code",
   "execution_count": 5,
   "metadata": {},
   "outputs": [],
   "source": [
    "dataframes = {}\n",
    "dataframes_fitted = {}\n",
    "\n",
    "# Define the columns you expect in your DataFrame\n",
    "expected_columns = ['date', 'week', 'Alpha', 'Gamma', 'Mu', 'Delta', 'Omicron', 'Otros'] #, 'OmicronBAX'\n",
    "\n",
    "dept_list = df_mun_info.COD_DEPTO.sort_values()[:-1]\n",
    "for dept_code in dept_list:\n",
    "\n",
    "    file_path           = f'{input_folder}/processed_data/{dept_code}_dominance_data.csv'\n",
    "    file_path_fitted    = f'{input_folder}/fitted_data/{dept_code}_dominance_data.csv'\n",
    "\n",
    "    df_dom          = pd.read_csv(file_path)\n",
    "    df_dom_fitted   = pd.read_csv(file_path_fitted)\n",
    "    \n",
    "    # Convert the 'date' column to datetime\n",
    "    df_dom['date']          = pd.to_datetime(df_dom['date'])\n",
    "    df_dom_fitted['date']   = pd.to_datetime(df_dom_fitted['date'])\n",
    "\n",
    "    # Reindex the DataFrame to have the expected columns, filling with 0 if they don't exist\n",
    "    df_dom          = df_dom.reindex(columns=expected_columns, fill_value=0)\n",
    "    df_dom_fitted    = df_dom_fitted.reindex(columns=expected_columns, fill_value=0)\n",
    "\n",
    "    # Store the DataFrame in the dictionary\n",
    "    dept_name = df_mun_info[df_mun_info.COD_DEPTO == dept_code].NOM_DEPART.tolist()[0]\n",
    "    dataframes[dept_name]           = df_dom\n",
    "    dataframes_fitted[dept_name]    = df_dom_fitted\n"
   ]
  },
  {
   "cell_type": "code",
   "execution_count": 6,
   "metadata": {},
   "outputs": [],
   "source": [
    "# Convert DataFrames to ColumnDataSource for both raw and fitted data\n",
    "sources = {name: ColumnDataSource(df) for name, df in dataframes.items()}\n",
    "sources_fitted = {name: ColumnDataSource(df) for name, df in dataframes_fitted.items()}\n",
    "\n",
    "# Initial ColumnDataSource for both raw and fitted data\n",
    "initial_source = ColumnDataSource(dataframes['SATA FE DE BOGOTÁ D.C.'])\n",
    "initial_source_fitted = ColumnDataSource(dataframes_fitted['SATA FE DE BOGOTÁ D.C.'])\n",
    "\n",
    "\n",
    "# Create the figure with datetime x-axis\n",
    "p = figure(x_axis_type='datetime', title=\"Dominance Data Over Time\", width=800, height=400)\n",
    "\n",
    "# Assuming 'date' is the name of your datetime column\n",
    "date_column = 'date'\n",
    "\n",
    "# List of columns to plot\n",
    "columns_to_plot = ['Alpha', 'Gamma', 'Mu', 'Delta', 'Omicron', 'Otros']\n",
    "\n",
    "# Check if we have enough colors, otherwise cycle the palette\n",
    "if len(columns_to_plot) > len(Category10[10]):\n",
    "    colors = Category10[10] * (len(columns_to_plot) // len(Category10[10]) + 1)\n",
    "else:\n",
    "    colors = Category10[10][:len(columns_to_plot)]\n",
    "\n",
    "for i, column_name in enumerate(columns_to_plot):\n",
    "    color = colors[i]\n",
    "    p.line(x=date_column, y=column_name, source=initial_source_fitted, line_width=2, color=color, alpha=0.8, legend_label=column_name, name=\"fitted\")\n",
    "    p.scatter(x=date_column, y=column_name, source=initial_source, size=8, color=color, legend_label=column_name, name=\"raw\")\n",
    "\n",
    "# Add legend customization here if needed\n",
    "p.legend.location = \"top_left\"\n",
    "p.legend.click_policy = \"hide\"\n",
    "\n",
    "# Select widget with JavaScript callback to handle both raw and fitted data sources\n",
    "select = Select(title=\"Choose dataset:\", value='SATA FE DE BOGOTÁ D.C.', options=list(sources.keys()))\n",
    "select.js_on_change('value', CustomJS(args=dict(sources=sources, sources_fitted=sources_fitted, plot=p), code=\"\"\"\n",
    "    const selected = cb_obj.value;\n",
    "    const new_source = sources[selected];\n",
    "    const new_source_fitted = sources_fitted[selected];\n",
    "    \n",
    "    // Update the plot based on the selected dataset\n",
    "    plot.renderers.forEach(renderer => {\n",
    "        if (renderer.data_source && renderer.name) {\n",
    "            let source_to_use = renderer.name === \"fitted\" ? new_source_fitted : new_source;\n",
    "            Object.assign(renderer.data_source.data, source_to_use.data);\n",
    "            renderer.data_source.change.emit();\n",
    "        }\n",
    "    });\n",
    "\"\"\"))\n",
    "\n",
    "# Layout\n",
    "layout = column(select, p)\n",
    "\n",
    "# Output to HTML\n",
    "output_file(f'{output_folder}/dominance_widget.html')\n",
    "show(layout)\n"
   ]
  }
 ],
 "metadata": {
  "kernelspec": {
   "display_name": "base",
   "language": "python",
   "name": "python3"
  },
  "language_info": {
   "codemirror_mode": {
    "name": "ipython",
    "version": 3
   },
   "file_extension": ".py",
   "mimetype": "text/x-python",
   "name": "python",
   "nbconvert_exporter": "python",
   "pygments_lexer": "ipython3",
   "version": "3.10.12"
  }
 },
 "nbformat": 4,
 "nbformat_minor": 2
}
